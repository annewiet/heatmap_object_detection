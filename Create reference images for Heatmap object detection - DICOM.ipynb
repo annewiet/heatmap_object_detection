{
 "cells": [
  {
   "cell_type": "code",
   "execution_count": 6,
   "metadata": {},
   "outputs": [],
   "source": [
    "# create images to crop for 'Heatmap object detection'\n",
    "# These images must be cropped and saved in D:\\\\Erasmus\\\\Automation Leon\\\\Heatmap_object_detection\\\\reference_imgs\\\\\n",
    "import numpy as np\n",
    "from numpy import asarray\n",
    "import matplotlib\n",
    "import matplotlib.pyplot as plt\n",
    "import sys\n",
    "import nibabel as nib\n",
    "from nilearn.image import resample_img\n",
    "import scipy.ndimage\n",
    "import pydicom # for reading dicom files\n",
    "import os # for doing directory operations\n",
    "\n",
    "DIR_DICOM    = 'C:\\\\Users\\\\Administrator\\\\OneDrive\\\\Thesis\\\\Coding\\\\Leon\\\\Heatmap_object_detection\\\\MMWHS\\\\'\n",
    "DIR_TEST     = 'C:\\\\Users\\\\Administrator\\\\OneDrive\\\\Thesis\\\\Coding\\\\Leon\\\\Heatmap_object_detection\\\\reference_imgs\\\\to be cropped\\diastole\\\\'\n",
    "VOXELSIZE    = [3.6408, 3.6408, 3.6408] # 0.4 to 0.16 --> resize 512 to 128; *0.9102 MMWHS dicom\n",
    "#dicom        = '15-mi16114-06 +_+ f 24 wks diastole'\n",
    "dicom        = '2001'"
   ]
  },
  {
   "cell_type": "code",
   "execution_count": 7,
   "metadata": {},
   "outputs": [
    {
     "name": "stdout",
     "output_type": "stream",
     "text": [
      "Loading dicom done\n"
     ]
    },
    {
     "name": "stderr",
     "output_type": "stream",
     "text": [
      "C:\\Users\\Administrator\\AppData\\Local\\Temp\\ipykernel_9688\\699832970.py:12: DeprecationWarning: Please use `zoom` from the `scipy.ndimage` namespace, the `scipy.ndimage.interpolation` namespace is deprecated.\n",
      "  image = scipy.ndimage.interpolation.zoom(image, real_resize_factor, mode='nearest')\n"
     ]
    },
    {
     "name": "stdout",
     "output_type": "stream",
     "text": [
      "Resampling done\n",
      "  Creating Axial images done\n",
      "  Creating Coronal images done\n",
      "  Creating Sagittal images done\n",
      "All done\n"
     ]
    }
   ],
   "source": [
    "# Resample for a uniform slice thickness over all scans   \n",
    "def resample3d(image, scan, new_spacing=[1,1,1]):\n",
    "    # Determine current pixel spacing\n",
    "    spacing = np.array([scan[0].SliceThickness] + list(scan[0].PixelSpacing), dtype=np.float32)\n",
    "\n",
    "    resize_factor = spacing / new_spacing\n",
    "    new_real_shape = image.shape * resize_factor\n",
    "    new_shape = np.round(new_real_shape)\n",
    "    real_resize_factor = new_shape / image.shape\n",
    "    new_spacing = spacing / real_resize_factor\n",
    "    \n",
    "    image = scipy.ndimage.interpolation.zoom(image, real_resize_factor, mode='nearest')\n",
    "    \n",
    "    return image, new_spacing\n",
    "\n",
    "path = DIR_DICOM + dicom\n",
    "slices = [pydicom.read_file(path + '/' + s) for s in os.listdir(path)]\n",
    "# if slices[0].ImageOrientationPatient != [-1, 0, 0, 0, -1, 0]:\n",
    "#    sys.exit('ERROR - Unkown image orientation '+str(slices[0].ImageOrientationPatient))\n",
    "if slices[0].PixelSpacing[0] != slices[0].PixelSpacing[1]:\n",
    "    sys.exit('ERROR - pixel height and depth do not match '+str(slices[0].PixelSpacing))\n",
    "#if slices[0].PixelSpacing[0] != slices[0].SliceThickness: #*\n",
    "#    sys.exit('ERROR - pixelspacing and slicedepth do not match ' #*\n",
    "#             +str(slices[0].PixelSpacing+' - '+str(slices[0].SliceThickness)))#*\n",
    "ratio = VOXELSIZE[0]/slices[0].SliceThickness\n",
    "        \n",
    "slices = slices[::-1] # to comply with orientation in viewers such as ITK-Snap or 3D Slicer\n",
    "scan = np.stack([s.pixel_array for s in slices])\n",
    "scan = scan.astype(np.int16)\n",
    "scan = np.flip(scan) # to comply with orientation in viewers such as ITK-Snap or 3D Slicer\n",
    "print('Loading dicom done')\n",
    "\n",
    "# Resize 512x512x512 to 128x128x128\n",
    "resampled, spacing = resample3d(scan, slices, VOXELSIZE)\n",
    "print('Resampling done')\n",
    "\n",
    "for z in range(resampled.shape[0]):\n",
    "    outputfile = dicom+' A '+str(z)+'.jpg' #.png increases file size from 5KB to 23 KB\n",
    "    matplotlib.image.imsave(DIR_TEST+outputfile, resampled[z,:,:], cmap=\"gray\")\n",
    "print('  Creating Axial images done')\n",
    "    \n",
    "for y in range(resampled.shape[1]):\n",
    "    outputfile = dicom+' C '+str(y)+'.jpg' #.png increases file size from 5KB to 23 KB\n",
    "    matplotlib.image.imsave(DIR_TEST+outputfile, resampled[:,y,:], cmap=\"gray\")\n",
    "print('  Creating Coronal images done')\n",
    "    \n",
    "for x in range(resampled.shape[2]):\n",
    "    outputfile = dicom+' S '+str(x)+'.jpg' #.png increases file size from 5KB to 23 KB\n",
    "    matplotlib.image.imsave(DIR_TEST+outputfile, resampled[:,:,x], cmap=\"gray\")\n",
    "print('  Creating Sagittal images done')\n",
    "\n",
    "print('All done')"
   ]
  },
  {
   "cell_type": "code",
   "execution_count": null,
   "metadata": {},
   "outputs": [],
   "source": []
  }
 ],
 "metadata": {
  "kernelspec": {
   "display_name": "Python (ROI_env)",
   "language": "python",
   "name": "roi_env"
  },
  "language_info": {
   "codemirror_mode": {
    "name": "ipython",
    "version": 3
   },
   "file_extension": ".py",
   "mimetype": "text/x-python",
   "name": "python",
   "nbconvert_exporter": "python",
   "pygments_lexer": "ipython3",
   "version": "3.8.12"
  }
 },
 "nbformat": 4,
 "nbformat_minor": 5
}
