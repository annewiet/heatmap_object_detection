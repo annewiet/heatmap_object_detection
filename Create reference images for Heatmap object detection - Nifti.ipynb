{
 "cells": [
  {
   "cell_type": "code",
   "execution_count": null,
   "metadata": {},
   "outputs": [],
   "source": [
    "pip install nilearn"
   ]
  },
  {
   "cell_type": "code",
   "execution_count": 21,
   "metadata": {},
   "outputs": [
    {
     "name": "stdout",
     "output_type": "stream",
     "text": [
      "Loading nifti done\n",
      "Downsampling nifti done\n",
      "  Creating Sagittal images done\n",
      "  Creating Coronal images done\n",
      "  Creating Axial images done\n",
      "All done\n"
     ]
    }
   ],
   "source": [
    "# Create images to crop for 'Heatmap object detection'\n",
    "# These images must be cropped and saved in D:\\\\Erasmus\\\\Automation Leon\\\\Heatmap_object_detection\\\\reference_imgs\\\\\n",
    "\n",
    "# TO DO: Check op voxelsizes inbouwen - print(img.header.get_zooms()) --> (0.451172, 0.451172, 0.625)\n",
    "# TO DO: Automatische downsamplingfactor i.p.v. hardcoded 1.82 voor pixelsize 512\n",
    "# TO DO: De lelijke oplossingen voor flippen en roteren netter maken\n",
    "import numpy as np\n",
    "from numpy import asarray\n",
    "import matplotlib\n",
    "from matplotlib import image\n",
    "import sys\n",
    "import nibabel as nib\n",
    "from nilearn.image import resample_img\n",
    "\n",
    "DIR_NIFTI    = 'C:\\\\Users\\\\Administrator\\\\OneDrive\\\\Thesis\\\\Coding\\\\Leon\\\\Heatmap_object_detection\\\\reference_imgs\\\\original image\\\\'\n",
    "DIR_OUTPUT   = 'C:\\\\Users\\\\Administrator\\\\OneDrive\\\\Thesis\\\\Coding\\\\Leon\\\\Heatmap_object_detection\\\\reference_imgs\\\\to be cropped\\\\'\n",
    "NIFTI        = 'ct_test_2001_image.nii.gz'\n",
    "\n",
    "def create_ref_imgs(filename):\n",
    "    original_nii = nib.load(filename)\n",
    "    print('Loading nifti done')\n",
    "    \n",
    "    if nib.aff2axcodes(original_nii.affine) != ('R', 'A', 'S'):\n",
    "        sys.exit('ERROR - Change image orientation to LPI')\n",
    "    if original_nii.shape[0] != 512 or original_nii.shape[1] != 512:\n",
    "        sys.exit('ERROR - Image shape should be (512, 512, x)')\n",
    "\n",
    "    downsampled_nii = resample_img(original_nii, target_affine=np.eye(3)*1.82, interpolation='nearest')\n",
    "    if downsampled_nii.shape[0] != 128 or downsampled_nii.shape[1] != 128:\n",
    "        sys.exit('ERROR - Image shape should be (128, 128, x)')\n",
    "    else:\n",
    "        print('Downsampling nifti done')\n",
    "    resampled = np.asanyarray(downsampled_nii.dataobj)\n",
    "    resampled = np.flip(resampled, 0) # to comply with orientation in viewers such as ITK-Snap or 3D Slicer\n",
    "\n",
    "    for z in range(resampled.shape[0]):\n",
    "        outputfile = NIFTI+' S '+str(resampled.shape[0]-z)+'.jpg'\n",
    "        # to comply with orientation in viewers such as ITK-Snap or 3D Slicer\n",
    "        img_flipped = np.flipud(resampled[z,:,:])\n",
    "        img = np.rot90(img_flipped, k=1)\n",
    "        matplotlib.image.imsave(DIR_OUTPUT+outputfile, img, cmap=\"gray\")\n",
    "    print('  Creating Sagittal images done')\n",
    "    \n",
    "    for y in range(resampled.shape[1]):\n",
    "        outputfile = NIFTI+' C '+str(y)+'.jpg'\n",
    "        img = np.rot90(resampled[:,y,:], k=1)\n",
    "        matplotlib.image.imsave(DIR_OUTPUT+outputfile, img, cmap=\"gray\")\n",
    "    print('  Creating Coronal images done')\n",
    "    \n",
    "    for x in range(resampled.shape[2]):\n",
    "        outputfile = NIFTI+' A '+str(x)+'.jpg'\n",
    "        img = np.rot90(resampled[:,:,x], k=1)\n",
    "        matplotlib.image.imsave(DIR_OUTPUT+outputfile, img, cmap=\"gray\")\n",
    "    print('  Creating Axial images done')\n",
    "\n",
    "\n",
    "create_ref_imgs(DIR_NIFTI+NIFTI)\n",
    "\n",
    "print('All done')"
   ]
  },
  {
   "cell_type": "code",
   "execution_count": null,
   "metadata": {},
   "outputs": [],
   "source": []
  }
 ],
 "metadata": {
  "kernelspec": {
   "display_name": "Python (ROI_env)",
   "language": "python",
   "name": "roi_env"
  },
  "language_info": {
   "codemirror_mode": {
    "name": "ipython",
    "version": 3
   },
   "file_extension": ".py",
   "mimetype": "text/x-python",
   "name": "python",
   "nbconvert_exporter": "python",
   "pygments_lexer": "ipython3",
   "version": "3.8.12"
  }
 },
 "nbformat": 4,
 "nbformat_minor": 4
}
